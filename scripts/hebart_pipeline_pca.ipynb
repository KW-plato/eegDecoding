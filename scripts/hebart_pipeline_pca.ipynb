{
 "cells": [
  {
   "cell_type": "markdown",
   "metadata": {},
   "source": [
    "# PCA of the cleaned epoched EEG data\n",
    "\n",
    "\n",
    "Ref: Hebart et al. eLife 2018;7:e32816. DOI: https://doi.org/10.7554/eLife.32816"
   ]
  },
  {
   "cell_type": "code",
   "execution_count": 1,
   "metadata": {},
   "outputs": [],
   "source": [
    "import gc\n",
    "import glob\n",
    "import matplotlib.pyplot as plt\n",
    "import mne\n",
    "import numpy as np\n",
    "import os\n",
    "import pandas as pd\n",
    "import re\n",
    "from scipy.ndimage import gaussian_filter1d\n",
    "import seaborn as sns\n",
    "from sklearn.decomposition import PCA\n",
    "from sklearn.svm import SVC\n",
    "from sklearn.pipeline import make_pipeline\n",
    "from sklearn.preprocessing import StandardScaler\n",
    "from sklearn.metrics import accuracy_score"
   ]
  },
  {
   "cell_type": "code",
   "execution_count": 2,
   "metadata": {},
   "outputs": [],
   "source": [
    "#set up the datasourcs and folder structure\n",
    "datasrc = \"/net/store/nbp/projects/GTI_decoding/data/pilot\"\n",
    "\n",
    "#folder structure: data/pilot/01_subjects_data/P001/eeg/preprocessed/04_PCA\n",
    "dir_struct = {\n",
    "    'dir_subj': \"01_subjects_data\",\n",
    "    'dir_gen': \"02_general_exp_data\",\n",
    "    'filtered': \"eeg/preprocessed/01_filtered\",\n",
    "    'epoched': \"eeg/preprocessed/02_epoched\",\n",
    "    'cleaned': \"eeg/preprocessed/03_cleaned\",\n",
    "    'pca': \"analysis/pca\",\n",
    "    'rawepochs': \"eeg/preprocessed/99_epochs_raw\"\n",
    "    }\n",
    "subj_list = [x for x in os.listdir(os.path.join(datasrc,dir_struct['dir_subj'])) if re.match(r'[P,S][\\d]+', x)] "
   ]
  },
  {
   "cell_type": "code",
   "execution_count": 3,
   "metadata": {},
   "outputs": [
    {
     "name": "stderr",
     "output_type": "stream",
     "text": [
      "/tmp/ipykernel_1119/4229041482.py:6: RuntimeWarning: The events passed to the Epochs constructor are not chronologically ordered.\n",
      "  epoched_data = mne.concatenate_epochs(epoch_list,add_offset=False)\n"
     ]
    },
    {
     "name": "stdout",
     "output_type": "stream",
     "text": [
      "Not setting metadata\n",
      "Not setting metadata\n",
      "143 matching events found\n",
      "No baseline correction applied\n",
      "0 projection items activated\n",
      "0 bad epochs dropped\n",
      "Overwriting existing file.\n"
     ]
    },
    {
     "name": "stderr",
     "output_type": "stream",
     "text": [
      "/tmp/ipykernel_1119/4229041482.py:12: RuntimeWarning: The events passed to the Epochs constructor are not chronologically ordered.\n",
      "  pca_epoch = mne.EpochsArray(pca_data,\n",
      "/tmp/ipykernel_1119/4229041482.py:6: RuntimeWarning: The events passed to the Epochs constructor are not chronologically ordered.\n",
      "  epoched_data = mne.concatenate_epochs(epoch_list,add_offset=False)\n"
     ]
    },
    {
     "name": "stdout",
     "output_type": "stream",
     "text": [
      "Not setting metadata\n",
      "Not setting metadata\n",
      "288 matching events found\n",
      "No baseline correction applied\n",
      "0 projection items activated\n",
      "0 bad epochs dropped\n",
      "Overwriting existing file.\n"
     ]
    },
    {
     "name": "stderr",
     "output_type": "stream",
     "text": [
      "/tmp/ipykernel_1119/4229041482.py:12: RuntimeWarning: The events passed to the Epochs constructor are not chronologically ordered.\n",
      "  pca_epoch = mne.EpochsArray(pca_data,\n",
      "/tmp/ipykernel_1119/4229041482.py:6: RuntimeWarning: The events passed to the Epochs constructor are not chronologically ordered.\n",
      "  epoched_data = mne.concatenate_epochs(epoch_list,add_offset=False)\n"
     ]
    },
    {
     "name": "stdout",
     "output_type": "stream",
     "text": [
      "Not setting metadata\n",
      "Not setting metadata\n",
      "288 matching events found\n",
      "No baseline correction applied\n",
      "0 projection items activated\n",
      "0 bad epochs dropped\n",
      "Overwriting existing file.\n"
     ]
    },
    {
     "name": "stderr",
     "output_type": "stream",
     "text": [
      "/tmp/ipykernel_1119/4229041482.py:12: RuntimeWarning: The events passed to the Epochs constructor are not chronologically ordered.\n",
      "  pca_epoch = mne.EpochsArray(pca_data,\n",
      "/tmp/ipykernel_1119/4229041482.py:6: RuntimeWarning: The events passed to the Epochs constructor are not chronologically ordered.\n",
      "  epoched_data = mne.concatenate_epochs(epoch_list,add_offset=False)\n"
     ]
    },
    {
     "name": "stdout",
     "output_type": "stream",
     "text": [
      "Not setting metadata\n",
      "Not setting metadata\n",
      "240 matching events found\n",
      "No baseline correction applied\n",
      "0 projection items activated\n",
      "0 bad epochs dropped\n",
      "Overwriting existing file.\n"
     ]
    },
    {
     "name": "stderr",
     "output_type": "stream",
     "text": [
      "/tmp/ipykernel_1119/4229041482.py:12: RuntimeWarning: The events passed to the Epochs constructor are not chronologically ordered.\n",
      "  pca_epoch = mne.EpochsArray(pca_data,\n",
      "/tmp/ipykernel_1119/4229041482.py:6: RuntimeWarning: The events passed to the Epochs constructor are not chronologically ordered.\n",
      "  epoched_data = mne.concatenate_epochs(epoch_list,add_offset=False)\n"
     ]
    },
    {
     "name": "stdout",
     "output_type": "stream",
     "text": [
      "Not setting metadata\n",
      "Not setting metadata\n",
      "179 matching events found\n",
      "No baseline correction applied\n",
      "0 projection items activated\n",
      "0 bad epochs dropped\n",
      "Overwriting existing file.\n"
     ]
    },
    {
     "name": "stderr",
     "output_type": "stream",
     "text": [
      "/tmp/ipykernel_1119/4229041482.py:12: RuntimeWarning: The events passed to the Epochs constructor are not chronologically ordered.\n",
      "  pca_epoch = mne.EpochsArray(pca_data,\n",
      "/tmp/ipykernel_1119/4229041482.py:6: RuntimeWarning: The events passed to the Epochs constructor are not chronologically ordered.\n",
      "  epoched_data = mne.concatenate_epochs(epoch_list,add_offset=False)\n"
     ]
    },
    {
     "name": "stdout",
     "output_type": "stream",
     "text": [
      "Not setting metadata\n",
      "Not setting metadata\n",
      "288 matching events found\n",
      "No baseline correction applied\n",
      "0 projection items activated\n",
      "0 bad epochs dropped\n",
      "Overwriting existing file.\n"
     ]
    },
    {
     "name": "stderr",
     "output_type": "stream",
     "text": [
      "/tmp/ipykernel_1119/4229041482.py:12: RuntimeWarning: The events passed to the Epochs constructor are not chronologically ordered.\n",
      "  pca_epoch = mne.EpochsArray(pca_data,\n",
      "/tmp/ipykernel_1119/4229041482.py:6: RuntimeWarning: The events passed to the Epochs constructor are not chronologically ordered.\n",
      "  epoched_data = mne.concatenate_epochs(epoch_list,add_offset=False)\n"
     ]
    },
    {
     "name": "stdout",
     "output_type": "stream",
     "text": [
      "Not setting metadata\n",
      "Not setting metadata\n",
      "288 matching events found\n",
      "No baseline correction applied\n",
      "0 projection items activated\n",
      "0 bad epochs dropped\n",
      "Overwriting existing file.\n"
     ]
    },
    {
     "name": "stderr",
     "output_type": "stream",
     "text": [
      "/tmp/ipykernel_1119/4229041482.py:12: RuntimeWarning: The events passed to the Epochs constructor are not chronologically ordered.\n",
      "  pca_epoch = mne.EpochsArray(pca_data,\n",
      "/tmp/ipykernel_1119/4229041482.py:6: RuntimeWarning: The events passed to the Epochs constructor are not chronologically ordered.\n",
      "  epoched_data = mne.concatenate_epochs(epoch_list,add_offset=False)\n"
     ]
    },
    {
     "name": "stdout",
     "output_type": "stream",
     "text": [
      "Not setting metadata\n",
      "Not setting metadata\n",
      "240 matching events found\n",
      "No baseline correction applied\n",
      "0 projection items activated\n",
      "0 bad epochs dropped\n",
      "Overwriting existing file.\n"
     ]
    },
    {
     "name": "stderr",
     "output_type": "stream",
     "text": [
      "/tmp/ipykernel_1119/4229041482.py:12: RuntimeWarning: The events passed to the Epochs constructor are not chronologically ordered.\n",
      "  pca_epoch = mne.EpochsArray(pca_data,\n",
      "/tmp/ipykernel_1119/4229041482.py:6: RuntimeWarning: The events passed to the Epochs constructor are not chronologically ordered.\n",
      "  epoched_data = mne.concatenate_epochs(epoch_list,add_offset=False)\n"
     ]
    },
    {
     "name": "stdout",
     "output_type": "stream",
     "text": [
      "Not setting metadata\n",
      "Not setting metadata\n",
      "288 matching events found\n",
      "No baseline correction applied\n",
      "0 projection items activated\n",
      "0 bad epochs dropped\n",
      "Overwriting existing file.\n"
     ]
    },
    {
     "name": "stderr",
     "output_type": "stream",
     "text": [
      "/tmp/ipykernel_1119/4229041482.py:12: RuntimeWarning: The events passed to the Epochs constructor are not chronologically ordered.\n",
      "  pca_epoch = mne.EpochsArray(pca_data,\n"
     ]
    }
   ],
   "source": [
    "results = []\n",
    "for s in subj_list:\n",
    "    epoch_folder = os.path.join(datasrc,dir_struct['dir_subj'],s,dir_struct['epoched'])\n",
    "    epoch_files = glob.glob(os.path.join(epoch_folder,\"*_epo.fif\"))\n",
    "    epoch_list = [mne.read_epochs(x, preload=False,verbose=False) for x in epoch_files]\n",
    "    epoched_data = mne.concatenate_epochs(epoch_list,add_offset=False)\n",
    "    del epoch_list\n",
    "    gc.collect()\n",
    "    X = epoched_data.get_data()\n",
    "    pca = mne.decoding.UnsupervisedSpatialFilter(PCA(0.99), average=False)\n",
    "    pca_data = pca.fit_transform(X)\n",
    "    pca_epoch = mne.EpochsArray(pca_data,\n",
    "                            info=mne.create_info(pca_data.shape[1], epoched_data.info['sfreq'],ch_types='eeg'),\n",
    "                            tmin=-0.1,\n",
    "                            events=epoched_data.events,\n",
    "                            event_id=epoched_data.event_id)\n",
    "    pca_epoch.save(os.path.join(datasrc,dir_struct['dir_subj'],dir_struct['pca'], f\"{s}_epo.fif\"), overwrite=True)\n",
    "    results.append(\"Subject: {} Original Channels: {} PCA Components: {}\\n\".format(s,X.shape[1],pca_data.shape[1]))\n",
    "    "
   ]
  },
  {
   "cell_type": "code",
   "execution_count": 4,
   "metadata": {},
   "outputs": [
    {
     "name": "stdout",
     "output_type": "stream",
     "text": [
      "Subject: P001 Original Channels: 61 PCA Components: 36\n",
      "\n",
      "Subject: P002 Original Channels: 61 PCA Components: 37\n",
      "\n",
      "Subject: P003 Original Channels: 61 PCA Components: 1\n",
      "\n",
      "Subject: P004 Original Channels: 61 PCA Components: 42\n",
      "\n",
      "Subject: S001 Original Channels: 63 PCA Components: 2\n",
      "\n",
      "Subject: S002 Original Channels: 63 PCA Components: 37\n",
      "\n",
      "Subject: S003 Original Channels: 63 PCA Components: 22\n",
      "\n",
      "Subject: S004 Original Channels: 63 PCA Components: 25\n",
      "\n",
      "Subject: S005 Original Channels: 63 PCA Components: 42\n",
      "\n"
     ]
    }
   ],
   "source": [
    "for r in results:\n",
    "    print(r)"
   ]
  },
  {
   "cell_type": "markdown",
   "metadata": {},
   "source": [
    "more then 50% of the components removed for subjects P003,S001,S003,S004"
   ]
  }
 ],
 "metadata": {
  "kernelspec": {
   "display_name": "Python 3 (ipykernel)",
   "language": "python",
   "name": "python3"
  },
  "language_info": {
   "codemirror_mode": {
    "name": "ipython",
    "version": 3
   },
   "file_extension": ".py",
   "mimetype": "text/x-python",
   "name": "python",
   "nbconvert_exporter": "python",
   "pygments_lexer": "ipython3",
   "version": "3.9.7"
  }
 },
 "nbformat": 4,
 "nbformat_minor": 4
}
